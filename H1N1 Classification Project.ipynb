{
 "cells": [
  {
   "cell_type": "markdown",
   "id": "daa4f559",
   "metadata": {},
   "source": [
    "### Data understanding\n",
    "As the world struggles to vaccinate the global population against COVID-19, an understanding of how people’s backgrounds, opinions, gender, race, age, health behaviors and other features are related to their personal vaccination patterns can provide guidance for future public health efforts. We try to understand better based on data collected to guide public health efforts in predicting whether one has a likelihood of contracting H1N! virus.\n",
    "\n",
    "More info can be found here > https://www.drivendata.org/competitions/66/flu-shot-learning/page/211/"
   ]
  },
  {
   "cell_type": "markdown",
   "id": "faeb20fc",
   "metadata": {},
   "source": [
    "### Problem Statement\n",
    "\n",
    "The goal is to predict how likely individuals are to receive their H1N1 and seasonal flu vaccines. Specifically, I'll be predicting ONLY one probability - h1n1_vaccine\n",
    "\n",
    "#### Specific objectives\n",
    "    - Understand if gender has any influence on whether one is likely to contract the virus\n",
    "    - Understand if Race has any influence on contracting the virus\n",
    "    - Determine if Age is a factor in contacting the virus"
   ]
  },
  {
   "cell_type": "code",
   "execution_count": 1,
   "id": "4a0247b9",
   "metadata": {},
   "outputs": [],
   "source": [
    "#import the necessary libraries\n",
    "\n",
    "import pandas as pd\n",
    "import numpy as np\n",
    "import matplotlib.pyplot as plt\n",
    "import seaborn as sns\n",
    "import warnings\n",
    "warnings.filterwarnings('ignore')"
   ]
  },
  {
   "cell_type": "code",
   "execution_count": 2,
   "id": "7fef1d85",
   "metadata": {},
   "outputs": [],
   "source": [
    "#Load the datasets\n",
    "df_label=pd.read_csv('training_set_labels.csv')\n",
    "df_features=pd.read_csv('training_set_features.csv')\n",
    "test_df = pd.read_csv(\"test_set_features.csv\")\n"
   ]
  }
 ],
 "metadata": {
  "kernelspec": {
   "display_name": "base",
   "language": "python",
   "name": "python3"
  },
  "language_info": {
   "codemirror_mode": {
    "name": "ipython",
    "version": 3
   },
   "file_extension": ".py",
   "mimetype": "text/x-python",
   "name": "python",
   "nbconvert_exporter": "python",
   "pygments_lexer": "ipython3",
   "version": "3.9.12"
  }
 },
 "nbformat": 4,
 "nbformat_minor": 5
}
